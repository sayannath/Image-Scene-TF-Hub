{
  "nbformat": 4,
  "nbformat_minor": 0,
  "metadata": {
    "colab": {
      "name": "Image-Scene-Classification-TFHub.ipynb",
      "provenance": []
    },
    "kernelspec": {
      "name": "python3",
      "display_name": "Python 3"
    },
    "language_info": {
      "name": "python"
    },
    "accelerator": "GPU"
  },
  "cells": [
    {
      "cell_type": "markdown",
      "source": [
        "## Data gathering"
      ],
      "metadata": {
        "id": "kWoyo7zevIPL"
      }
    },
    {
      "cell_type": "code",
      "execution_count": 1,
      "metadata": {
        "id": "vu5MgrEou4vi"
      },
      "outputs": [],
      "source": [
        "!wget -q http://data.vision.ee.ethz.ch/ihnatova/camera_scene_detection_train.zip\n",
        "!unzip -qq camera_scene_detection_train.zip"
      ]
    },
    {
      "cell_type": "markdown",
      "source": [
        "## Imports"
      ],
      "metadata": {
        "id": "IKrRbtLLvRLt"
      }
    },
    {
      "cell_type": "code",
      "source": [
        "import tensorflow as tf\n",
        "from tensorflow import keras\n",
        "from tensorflow.keras import layers\n",
        "\n",
        "import numpy as np\n",
        "from tqdm import tqdm\n",
        "from imutils import paths\n",
        "from pprint import pprint\n",
        "from collections import Counter\n",
        "import matplotlib.pyplot as plt\n",
        "from sklearn.preprocessing import LabelEncoder\n",
        "\n",
        "tf.random.set_seed(42)\n",
        "np.random.seed(42)"
      ],
      "metadata": {
        "id": "cTdrzZPBvSZB"
      },
      "execution_count": 2,
      "outputs": []
    },
    {
      "cell_type": "markdown",
      "source": [
        "## Data parsing"
      ],
      "metadata": {
        "id": "rVdndsAOvybp"
      }
    },
    {
      "cell_type": "code",
      "source": [
        "image_paths = list(paths.list_images(\"training\"))\n",
        "np.random.shuffle(image_paths)\n",
        "print(image_paths[:5])"
      ],
      "metadata": {
        "colab": {
          "base_uri": "https://localhost:8080/"
        },
        "id": "XQiUdlgivz7P",
        "outputId": "53048724-c273-48c8-c278-cb112000aa54"
      },
      "execution_count": 3,
      "outputs": [
        {
          "output_type": "stream",
          "name": "stdout",
          "text": [
            "['training/2_Group_portrait/221.jpg', 'training/29_QR_images/126.jpg', 'training/16_Blue_Sky/144.jpg', 'training/18_Greenery/157.jpg', 'training/22_Stage_concert/36.jpg']\n"
          ]
        }
      ]
    },
    {
      "cell_type": "code",
      "source": [
        "labels = []\n",
        "for image_path in tqdm(image_paths):\n",
        "    label = image_path.split(\"/\")[1]\n",
        "    labels.append(label)\n",
        "class_count = Counter(labels) \n",
        "pprint(class_count) "
      ],
      "metadata": {
        "colab": {
          "base_uri": "https://localhost:8080/"
        },
        "id": "uNsCx3Mjwn1u",
        "outputId": "4395a737-7b1c-4040-892f-b0e997f7de92"
      },
      "execution_count": 4,
      "outputs": [
        {
          "output_type": "stream",
          "name": "stderr",
          "text": [
            "100%|██████████| 9897/9897 [00:00<00:00, 611067.34it/s]"
          ]
        },
        {
          "output_type": "stream",
          "name": "stdout",
          "text": [
            "Counter({'4_Dog': 502,\n",
            "         '14_Architecture': 463,\n",
            "         '15_Sunset_Sunrise': 420,\n",
            "         '7_Food': 400,\n",
            "         '5_Cat': 373,\n",
            "         '6_Macro': 357,\n",
            "         '9_Mountain': 352,\n",
            "         '11_Snow': 344,\n",
            "         '12_Landscape': 335,\n",
            "         '8_Beach': 334,\n",
            "         '10_Waterfall': 326,\n",
            "         '2_Group_portrait': 324,\n",
            "         '16_Blue_Sky': 322,\n",
            "         '22_Stage_concert': 322,\n",
            "         '1_Portrait': 319,\n",
            "         '23_Fireworks': 317,\n",
            "         '21_Night_shot': 316,\n",
            "         '24_Candle_light': 313,\n",
            "         '30_Computer_Screens': 308,\n",
            "         '17_Cloudy_Sky': 307,\n",
            "         '28_Text_Documents': 306,\n",
            "         '26_Indoor': 298,\n",
            "         '13_Underwater': 296,\n",
            "         '19_Autumn_leaves': 295,\n",
            "         '18_Greenery': 294,\n",
            "         '3_Kids': 281,\n",
            "         '27_Backlight': 280,\n",
            "         '20_Flower': 279,\n",
            "         '25_Neon_lights': 269,\n",
            "         '29_QR_images': 245})\n"
          ]
        },
        {
          "output_type": "stream",
          "name": "stderr",
          "text": [
            "\n"
          ]
        }
      ]
    },
    {
      "cell_type": "markdown",
      "source": [
        "## Define the hyparameters"
      ],
      "metadata": {
        "id": "1OI74uT1wyPX"
      }
    },
    {
      "cell_type": "code",
      "source": [
        "TRAIN_SPLIT = 0.9\n",
        "IMG_SIZE = 224\n",
        "BATCH_SIZE = 128\n",
        "AUTO = tf.data.AUTOTUNE\n",
        "EPOCHS = 100\n",
        "NUM_CLASSES = 30"
      ],
      "metadata": {
        "id": "246WWAGYwswT"
      },
      "execution_count": 5,
      "outputs": []
    },
    {
      "cell_type": "markdown",
      "source": [
        "## Split the dataset"
      ],
      "metadata": {
        "id": "AGvbiAuJ46XR"
      }
    },
    {
      "cell_type": "code",
      "source": [
        "i = int(len(image_paths) * TRAIN_SPLIT)\n",
        "\n",
        "train_paths = image_paths[:i]\n",
        "train_labels = labels[:i]\n",
        "validation_paths = image_paths[i:]\n",
        "validation_labels = labels[i:]\n",
        "\n",
        "print(len(train_paths), len(validation_paths))"
      ],
      "metadata": {
        "colab": {
          "base_uri": "https://localhost:8080/"
        },
        "id": "grgBDYzYw2qK",
        "outputId": "f9d74774-fb63-4733-c685-4a2b8743f411"
      },
      "execution_count": 6,
      "outputs": [
        {
          "output_type": "stream",
          "name": "stdout",
          "text": [
            "8907 990\n"
          ]
        }
      ]
    },
    {
      "cell_type": "markdown",
      "source": [
        "## Encode the labels"
      ],
      "metadata": {
        "id": "GBUlPU1148Xp"
      }
    },
    {
      "cell_type": "code",
      "source": [
        "le = LabelEncoder()\n",
        "train_labels_le = le.fit_transform(train_labels)\n",
        "validation_labels_le = le.transform(validation_labels)\n",
        "print(train_labels_le[:5])"
      ],
      "metadata": {
        "colab": {
          "base_uri": "https://localhost:8080/"
        },
        "id": "J-TvZvk6x_p8",
        "outputId": "10de0a87-1dd9-4c60-83be-d9de2a67c4bb"
      },
      "execution_count": 7,
      "outputs": [
        {
          "output_type": "stream",
          "name": "stdout",
          "text": [
            "[21 20  6  8 13]\n"
          ]
        }
      ]
    },
    {
      "cell_type": "markdown",
      "source": [
        "## Dataloader"
      ],
      "metadata": {
        "id": "NIt7sPht4-Mw"
      }
    },
    {
      "cell_type": "code",
      "source": [
        "@tf.function\n",
        "def load_images(image_path, label):\n",
        "    image = tf.io.read_file(image_path)\n",
        "    image = tf.image.decode_jpeg(image, channels=3)\n",
        "    image = tf.cast(image, tf.float32) # No rescaling since MobileNetV3 internally does it\n",
        "    image = tf.image.resize(image, (IMG_SIZE, IMG_SIZE))\n",
        "    return (image, label)"
      ],
      "metadata": {
        "id": "_gLwAvOEyEKI"
      },
      "execution_count": 8,
      "outputs": []
    },
    {
      "cell_type": "markdown",
      "source": [
        "## Apply data augmentation"
      ],
      "metadata": {
        "id": "bTFnQiL54_1D"
      }
    },
    {
      "cell_type": "code",
      "source": [
        "data_augmentation = tf.keras.Sequential(\n",
        "    [\n",
        "        tf.keras.layers.experimental.preprocessing.RandomFlip(\"horizontal\"),\n",
        "        tf.keras.layers.experimental.preprocessing.RandomRotation(factor=0.02),\n",
        "        tf.keras.layers.experimental.preprocessing.RandomZoom(\n",
        "            height_factor=0.2, width_factor=0.2\n",
        "        ),\n",
        "    ],\n",
        "    name=\"data_augmentation\",\n",
        ")"
      ],
      "metadata": {
        "id": "KZJlpamqyB2O"
      },
      "execution_count": 9,
      "outputs": []
    },
    {
      "cell_type": "markdown",
      "source": [
        "## Convert the data into TensorFlow Dataset objects"
      ],
      "metadata": {
        "id": "QUfENlfR5UK9"
      }
    },
    {
      "cell_type": "code",
      "source": [
        "train_ds = tf.data.Dataset.from_tensor_slices((train_paths, train_labels_le))\n",
        "val_ds = tf.data.Dataset.from_tensor_slices((validation_paths, validation_labels_le))"
      ],
      "metadata": {
        "id": "UF86iCFPyMUH"
      },
      "execution_count": 10,
      "outputs": []
    },
    {
      "cell_type": "markdown",
      "source": [
        "## Data pipeline"
      ],
      "metadata": {
        "id": "vnfV57hS5Vzi"
      }
    },
    {
      "cell_type": "code",
      "source": [
        "pipeline_train = (\n",
        "    train_ds\n",
        "    .shuffle(1024)\n",
        "    .map(load_images, num_parallel_calls=AUTO)\n",
        "    .batch(BATCH_SIZE)\n",
        "    .map(lambda x, y: (data_augmentation(x), y), num_parallel_calls=AUTO)\n",
        "    .prefetch(AUTO)\n",
        ")\n",
        "\n",
        "pipeline_validation = (\n",
        "    val_ds\n",
        "    .map(load_images, num_parallel_calls=AUTO)\n",
        "    .batch(BATCH_SIZE)\n",
        "    .prefetch(AUTO)\n",
        ")"
      ],
      "metadata": {
        "id": "E1lrawDYzKRQ"
      },
      "execution_count": 11,
      "outputs": []
    },
    {
      "cell_type": "markdown",
      "source": [
        "## Determine class weights"
      ],
      "metadata": {
        "id": "aiIAEpJv5Xkc"
      }
    },
    {
      "cell_type": "code",
      "source": [
        "trainLabels = keras.utils.to_categorical(train_labels_le)\n",
        "classTotals = trainLabels.sum(axis=0)\n",
        "classWeight = dict()\n",
        "# loop over all classes and calculate the class weight\n",
        "for i in range(0, len(classTotals)):\n",
        "\tclassWeight[i] = classTotals.max() / classTotals[i]"
      ],
      "metadata": {
        "id": "M8zjG_UYzY8X"
      },
      "execution_count": 12,
      "outputs": []
    },
    {
      "cell_type": "markdown",
      "source": [
        "## Model building and training"
      ],
      "metadata": {
        "id": "NOcrbZdbzehj"
      }
    },
    {
      "cell_type": "code",
      "source": [
        "def get_training_model(trainable=False):\n",
        "    # Load the MobileNetV3 model but exclude the classification layers\n",
        "    EXTRACTOR = keras.applications.MobileNetV3Small(weights=\"imagenet\", include_top=False,\n",
        "                    input_shape=(IMG_SIZE, IMG_SIZE, 3))\n",
        "    # We will set it to both True and False\n",
        "    EXTRACTOR.trainable = trainable\n",
        "    # Construct the head of the model that will be placed on top of the\n",
        "    # the base model\n",
        "    class_head = EXTRACTOR.output\n",
        "    class_head = layers.GlobalAveragePooling2D()(class_head)\n",
        "    class_head = layers.Dense(512, activation=\"relu\")(class_head)\n",
        "    class_head = layers.Dropout(0.5)(class_head)\n",
        "    class_head = layers.Dense(NUM_CLASSES, activation=\"softmax\", dtype=\"float32\")(class_head)\n",
        "\n",
        "    # Create the new model\n",
        "    classifier = keras.Model(inputs=EXTRACTOR.input, outputs=class_head)\n",
        "\n",
        "    # Compile and return the model\n",
        "    classifier.compile(loss=\"sparse_categorical_crossentropy\", \n",
        "                          optimizer=\"adam\",\n",
        "                          metrics=[\"accuracy\"])\n",
        "\n",
        "    return classifier"
      ],
      "metadata": {
        "id": "hvvwwC2AzhqY"
      },
      "execution_count": 13,
      "outputs": []
    },
    {
      "cell_type": "markdown",
      "source": [
        "## Plot the metric"
      ],
      "metadata": {
        "id": "1iRdd6Y458Fr"
      }
    },
    {
      "cell_type": "code",
      "source": [
        "def plot_hist(hist):\n",
        "    plt.plot(hist.history[\"accuracy\"])\n",
        "    plt.plot(hist.history[\"val_accuracy\"])\n",
        "    plt.plot(hist.history[\"loss\"])\n",
        "    plt.plot(hist.history[\"val_loss\"])\n",
        "    plt.title(\"Training Progress\")\n",
        "    plt.ylabel(\"Accuracy/Loss\")\n",
        "    plt.xlabel(\"Epochs\")\n",
        "    plt.legend([\"train_acc\", \"val_acc\", \"train_loss\", \"val_loss\"], loc=\"upper left\")\n",
        "    plt.show()"
      ],
      "metadata": {
        "id": "6gLj9nSyz4JZ"
      },
      "execution_count": 14,
      "outputs": []
    },
    {
      "cell_type": "markdown",
      "source": [
        "## Setup callbacks"
      ],
      "metadata": {
        "id": "ZlQ6yPjr5-KM"
      }
    },
    {
      "cell_type": "code",
      "source": [
        "train_callbacks = [\n",
        "    keras.callbacks.EarlyStopping(patience=5, restore_best_weights=True)\n",
        "]"
      ],
      "metadata": {
        "id": "nLO6jN80z6Cq"
      },
      "execution_count": 15,
      "outputs": []
    },
    {
      "cell_type": "markdown",
      "source": [
        "## Train the model"
      ],
      "metadata": {
        "id": "Cq69f7j86APC"
      }
    },
    {
      "cell_type": "code",
      "source": [
        "classifier = get_training_model()\n",
        "\n",
        "h = classifier.fit(pipeline_train,\n",
        "               validation_data=pipeline_validation,\n",
        "               epochs=EPOCHS,\n",
        "               class_weight=classWeight,\n",
        "               callbacks=train_callbacks)\n",
        "\n",
        "accuracy = classifier.evaluate(pipeline_validation)[1] * 100\n",
        "print(\"Accuracy: {:.2f}%\".format(accuracy))\n",
        "plot_hist(h)"
      ],
      "metadata": {
        "colab": {
          "base_uri": "https://localhost:8080/",
          "height": 694
        },
        "id": "QJgGSwF70K1j",
        "outputId": "ab87d7ae-e234-47d0-b09d-98816aaa32c7"
      },
      "execution_count": 16,
      "outputs": [
        {
          "output_type": "stream",
          "name": "stdout",
          "text": [
            "Downloading data from https://storage.googleapis.com/tensorflow/keras-applications/mobilenet_v3/weights_mobilenet_v3_small_224_1.0_float_no_top.h5\n",
            "6701056/6698480 [==============================] - 0s 0us/step\n",
            "6709248/6698480 [==============================] - 0s 0us/step\n",
            "Epoch 1/100\n",
            "70/70 [==============================] - 108s 1s/step - loss: 1.3390 - accuracy: 0.7752 - val_loss: 0.3438 - val_accuracy: 0.8980\n",
            "Epoch 2/100\n",
            "70/70 [==============================] - 89s 1s/step - loss: 0.4143 - accuracy: 0.9174 - val_loss: 0.3119 - val_accuracy: 0.8980\n",
            "Epoch 3/100\n",
            "70/70 [==============================] - 86s 1s/step - loss: 0.2999 - accuracy: 0.9402 - val_loss: 0.3081 - val_accuracy: 0.8929\n",
            "Epoch 4/100\n",
            "70/70 [==============================] - 88s 1s/step - loss: 0.2349 - accuracy: 0.9506 - val_loss: 0.2813 - val_accuracy: 0.9081\n",
            "Epoch 5/100\n",
            "70/70 [==============================] - 87s 1s/step - loss: 0.1989 - accuracy: 0.9581 - val_loss: 0.2873 - val_accuracy: 0.9091\n",
            "Epoch 6/100\n",
            "70/70 [==============================] - 87s 1s/step - loss: 0.1673 - accuracy: 0.9655 - val_loss: 0.2979 - val_accuracy: 0.9000\n",
            "Epoch 7/100\n",
            "70/70 [==============================] - 87s 1s/step - loss: 0.1539 - accuracy: 0.9686 - val_loss: 0.2991 - val_accuracy: 0.9081\n",
            "Epoch 8/100\n",
            "70/70 [==============================] - 98s 1s/step - loss: 0.1316 - accuracy: 0.9720 - val_loss: 0.3002 - val_accuracy: 0.9051\n",
            "Epoch 9/100\n",
            "70/70 [==============================] - 93s 1s/step - loss: 0.1108 - accuracy: 0.9782 - val_loss: 0.2975 - val_accuracy: 0.9091\n",
            "8/8 [==============================] - 3s 336ms/step - loss: 0.2813 - accuracy: 0.9081\n",
            "Accuracy: 90.81%\n"
          ]
        },
        {
          "output_type": "display_data",
          "data": {
            "image/png": "[encoded data removed]",
            "text/plain": [
              "<Figure size 432x288 with 1 Axes>"
            ]
          },
          "metadata": {
            "needs_background": "light"
          }
        }
      ]
    },
    {
      "cell_type": "markdown",
      "source": [
        "## Serialize the model"
      ],
      "metadata": {
        "id": "-Lt1K9mI6s1L"
      }
    },
    {
      "cell_type": "code",
      "source": [
        "classifier.save('image_scene_model')"
      ],
      "metadata": {
        "colab": {
          "base_uri": "https://localhost:8080/"
        },
        "id": "ghQSu5au6sYM",
        "outputId": "732e71ac-f96e-4f8c-ffa8-ed986cd52e5d"
      },
      "execution_count": 17,
      "outputs": [
        {
          "output_type": "stream",
          "name": "stdout",
          "text": [
            "INFO:tensorflow:Assets written to: image_scene_model/assets\n"
          ]
        },
        {
          "output_type": "stream",
          "name": "stderr",
          "text": [
            "/usr/local/lib/python3.7/dist-packages/keras/engine/functional.py:1410: CustomMaskWarning: Custom mask layers require a config and must override get_config. When loading, the custom mask layer must be passed to the custom_objects argument.\n",
            "  layer_config = serialize_layer_fn(layer)\n",
            "/usr/local/lib/python3.7/dist-packages/keras/saving/saved_model/layer_serialization.py:112: CustomMaskWarning: Custom mask layers require a config and must override get_config. When loading, the custom mask layer must be passed to the custom_objects argument.\n",
            "  return generic_utils.serialize_keras_object(obj)\n"
          ]
        }
      ]
    },
    {
      "cell_type": "code",
      "source": [
        "!tar -cvf \"image_scene_model.tar\" \"image_scene_model\""
      ],
      "metadata": {
        "colab": {
          "base_uri": "https://localhost:8080/"
        },
        "id": "KnSBU6W463KF",
        "outputId": "daf6a34c-11a4-457e-9e3c-5ca3be95bf20"
      },
      "execution_count": 18,
      "outputs": [
        {
          "output_type": "stream",
          "name": "stdout",
          "text": [
            "image_scene_model/\n",
            "image_scene_model/keras_metadata.pb\n",
            "image_scene_model/saved_model.pb\n",
            "image_scene_model/assets/\n",
            "image_scene_model/variables/\n",
            "image_scene_model/variables/variables.index\n",
            "image_scene_model/variables/variables.data-00000-of-00001\n"
          ]
        }
      ]
    }
  ]
}