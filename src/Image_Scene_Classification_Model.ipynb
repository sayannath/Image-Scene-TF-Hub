{
  "nbformat": 4,
  "nbformat_minor": 0,
  "metadata": {
    "colab": {
      "name": "Image_Scene_Classification_TFHub.ipynb",
      "provenance": []
    },
    "kernelspec": {
      "name": "python3",
      "display_name": "Python 3"
    },
    "language_info": {
      "name": "python"
    },
    "accelerator": "GPU"
  },
  "cells": [
    {
      "cell_type": "markdown",
      "source": [
        "## Data gathering"
      ],
      "metadata": {
        "id": "kWoyo7zevIPL"
      }
    },
    {
      "cell_type": "code",
      "execution_count": 1,
      "metadata": {
        "id": "vu5MgrEou4vi"
      },
      "outputs": [],
      "source": [
        "!wget -q http://data.vision.ee.ethz.ch/ihnatova/camera_scene_detection_train.zip\n",
        "!unzip -qq camera_scene_detection_train.zip"
      ]
    },
    {
      "cell_type": "markdown",
      "source": [
        "## Imports"
      ],
      "metadata": {
        "id": "IKrRbtLLvRLt"
      }
    },
    {
      "cell_type": "code",
      "source": [
        "import tensorflow as tf\n",
        "from tensorflow import keras\n",
        "from tensorflow.keras import layers\n",
        "\n",
        "import numpy as np\n",
        "from tqdm import tqdm\n",
        "from imutils import paths\n",
        "from pprint import pprint\n",
        "from collections import Counter\n",
        "import matplotlib.pyplot as plt\n",
        "from sklearn.preprocessing import LabelEncoder\n",
        "from sklearn.metrics import classification_report, confusion_matrix\n",
        "\n",
        "tf.random.set_seed(42)\n",
        "np.random.seed(42)"
      ],
      "metadata": {
        "id": "cTdrzZPBvSZB"
      },
      "execution_count": 21,
      "outputs": []
    },
    {
      "cell_type": "markdown",
      "source": [
        "## Data parsing"
      ],
      "metadata": {
        "id": "rVdndsAOvybp"
      }
    },
    {
      "cell_type": "code",
      "source": [
        "image_paths = list(paths.list_images(\"training\"))\n",
        "np.random.shuffle(image_paths)\n",
        "print(image_paths[:5])"
      ],
      "metadata": {
        "colab": {
          "base_uri": "https://localhost:8080/"
        },
        "id": "XQiUdlgivz7P",
        "outputId": "6a144bce-7ca4-4218-bbcd-cd91c5475287"
      },
      "execution_count": 3,
      "outputs": [
        {
          "output_type": "stream",
          "name": "stdout",
          "text": [
            "['training/2_Group_portrait/221.jpg', 'training/29_QR_images/126.jpg', 'training/16_Blue_Sky/144.jpg', 'training/18_Greenery/157.jpg', 'training/22_Stage_concert/36.jpg']\n"
          ]
        }
      ]
    },
    {
      "cell_type": "code",
      "source": [
        "labels = []\n",
        "for image_path in tqdm(image_paths):\n",
        "    label = image_path.split(\"/\")[1]\n",
        "    labels.append(label)\n",
        "class_count = Counter(labels) \n",
        "pprint(class_count) "
      ],
      "metadata": {
        "colab": {
          "base_uri": "https://localhost:8080/"
        },
        "id": "uNsCx3Mjwn1u",
        "outputId": "6c141cf6-da5b-4818-b9d0-0a75403fbb2f"
      },
      "execution_count": 4,
      "outputs": [
        {
          "output_type": "stream",
          "name": "stderr",
          "text": [
            "100%|██████████| 9897/9897 [00:00<00:00, 162122.05it/s]"
          ]
        },
        {
          "output_type": "stream",
          "name": "stdout",
          "text": [
            "Counter({'4_Dog': 502,\n",
            "         '14_Architecture': 463,\n",
            "         '15_Sunset_Sunrise': 420,\n",
            "         '7_Food': 400,\n",
            "         '5_Cat': 373,\n",
            "         '6_Macro': 357,\n",
            "         '9_Mountain': 352,\n",
            "         '11_Snow': 344,\n",
            "         '12_Landscape': 335,\n",
            "         '8_Beach': 334,\n",
            "         '10_Waterfall': 326,\n",
            "         '2_Group_portrait': 324,\n",
            "         '16_Blue_Sky': 322,\n",
            "         '22_Stage_concert': 322,\n",
            "         '1_Portrait': 319,\n",
            "         '23_Fireworks': 317,\n",
            "         '21_Night_shot': 316,\n",
            "         '24_Candle_light': 313,\n",
            "         '30_Computer_Screens': 308,\n",
            "         '17_Cloudy_Sky': 307,\n",
            "         '28_Text_Documents': 306,\n",
            "         '26_Indoor': 298,\n",
            "         '13_Underwater': 296,\n",
            "         '19_Autumn_leaves': 295,\n",
            "         '18_Greenery': 294,\n",
            "         '3_Kids': 281,\n",
            "         '27_Backlight': 280,\n",
            "         '20_Flower': 279,\n",
            "         '25_Neon_lights': 269,\n",
            "         '29_QR_images': 245})\n"
          ]
        },
        {
          "output_type": "stream",
          "name": "stderr",
          "text": [
            "\n"
          ]
        }
      ]
    },
    {
      "cell_type": "markdown",
      "source": [
        "## Define the hyparameters"
      ],
      "metadata": {
        "id": "1OI74uT1wyPX"
      }
    },
    {
      "cell_type": "code",
      "source": [
        "TRAIN_SPLIT = 0.9\n",
        "IMG_SIZE = 224\n",
        "BATCH_SIZE = 256\n",
        "AUTO = tf.data.AUTOTUNE\n",
        "EPOCHS = 100\n",
        "NUM_CLASSES = 30"
      ],
      "metadata": {
        "id": "246WWAGYwswT"
      },
      "execution_count": 5,
      "outputs": []
    },
    {
      "cell_type": "markdown",
      "source": [
        "## Split the dataset"
      ],
      "metadata": {
        "id": "AGvbiAuJ46XR"
      }
    },
    {
      "cell_type": "code",
      "source": [
        "i = int(len(image_paths) * TRAIN_SPLIT)\n",
        "\n",
        "train_paths = image_paths[:i]\n",
        "train_labels = labels[:i]\n",
        "validation_paths = image_paths[i:]\n",
        "validation_labels = labels[i:]\n",
        "\n",
        "print(len(train_paths), len(validation_paths))"
      ],
      "metadata": {
        "colab": {
          "base_uri": "https://localhost:8080/"
        },
        "id": "grgBDYzYw2qK",
        "outputId": "54c570f9-9754-4b6c-9b4d-f757a0323604"
      },
      "execution_count": 6,
      "outputs": [
        {
          "output_type": "stream",
          "name": "stdout",
          "text": [
            "8907 990\n"
          ]
        }
      ]
    },
    {
      "cell_type": "markdown",
      "source": [
        "## Encode the labels"
      ],
      "metadata": {
        "id": "GBUlPU1148Xp"
      }
    },
    {
      "cell_type": "code",
      "source": [
        "le = LabelEncoder()\n",
        "train_labels_le = le.fit_transform(train_labels)\n",
        "validation_labels_le = le.transform(validation_labels)\n",
        "print(train_labels_le[:5])"
      ],
      "metadata": {
        "colab": {
          "base_uri": "https://localhost:8080/"
        },
        "id": "J-TvZvk6x_p8",
        "outputId": "cf4d9215-07be-461e-db50-1741e45e79ee"
      },
      "execution_count": 7,
      "outputs": [
        {
          "output_type": "stream",
          "name": "stdout",
          "text": [
            "[21 20  6  8 13]\n"
          ]
        }
      ]
    },
    {
      "cell_type": "markdown",
      "source": [
        "## Dataloader"
      ],
      "metadata": {
        "id": "NIt7sPht4-Mw"
      }
    },
    {
      "cell_type": "code",
      "source": [
        "@tf.function\n",
        "def load_images(image_path, label):\n",
        "    image = tf.io.read_file(image_path)\n",
        "    image = tf.image.decode_jpeg(image, channels=3)\n",
        "    image = tf.cast(image, tf.float32) # No rescaling since EfficientNetB1 internally does it\n",
        "    image = tf.image.resize(image, (IMG_SIZE, IMG_SIZE))\n",
        "    return (image, label)"
      ],
      "metadata": {
        "id": "_gLwAvOEyEKI"
      },
      "execution_count": 8,
      "outputs": []
    },
    {
      "cell_type": "markdown",
      "source": [
        "## Apply data augmentation"
      ],
      "metadata": {
        "id": "bTFnQiL54_1D"
      }
    },
    {
      "cell_type": "code",
      "source": [
        "data_augmentation = tf.keras.Sequential(\n",
        "    [\n",
        "        tf.keras.layers.experimental.preprocessing.RandomFlip(\"horizontal\"),\n",
        "        tf.keras.layers.experimental.preprocessing.RandomRotation(factor=0.02),\n",
        "        tf.keras.layers.experimental.preprocessing.RandomZoom(\n",
        "            height_factor=0.2, width_factor=0.2\n",
        "        ),\n",
        "    ],\n",
        "    name=\"data_augmentation\",\n",
        ")"
      ],
      "metadata": {
        "id": "KZJlpamqyB2O"
      },
      "execution_count": 9,
      "outputs": []
    },
    {
      "cell_type": "markdown",
      "source": [
        "## Convert the data into TensorFlow Dataset objects"
      ],
      "metadata": {
        "id": "QUfENlfR5UK9"
      }
    },
    {
      "cell_type": "code",
      "source": [
        "train_ds = tf.data.Dataset.from_tensor_slices((train_paths, train_labels_le))\n",
        "val_ds = tf.data.Dataset.from_tensor_slices((validation_paths, validation_labels_le))"
      ],
      "metadata": {
        "id": "UF86iCFPyMUH"
      },
      "execution_count": 10,
      "outputs": []
    },
    {
      "cell_type": "markdown",
      "source": [
        "## Data pipeline"
      ],
      "metadata": {
        "id": "vnfV57hS5Vzi"
      }
    },
    {
      "cell_type": "code",
      "source": [
        "pipeline_train = (\n",
        "    train_ds\n",
        "    .shuffle(1024)\n",
        "    .map(load_images, num_parallel_calls=AUTO)\n",
        "    .batch(BATCH_SIZE)\n",
        "    .map(lambda x, y: (data_augmentation(x), y), num_parallel_calls=AUTO)\n",
        "    .prefetch(AUTO)\n",
        ")\n",
        "\n",
        "pipeline_validation = (\n",
        "    val_ds\n",
        "    .map(load_images, num_parallel_calls=AUTO)\n",
        "    .batch(BATCH_SIZE)\n",
        "    .prefetch(AUTO)\n",
        ")"
      ],
      "metadata": {
        "id": "E1lrawDYzKRQ"
      },
      "execution_count": 11,
      "outputs": []
    },
    {
      "cell_type": "markdown",
      "source": [
        "## Determine class weights"
      ],
      "metadata": {
        "id": "aiIAEpJv5Xkc"
      }
    },
    {
      "cell_type": "code",
      "source": [
        "trainLabels = keras.utils.to_categorical(train_labels_le)\n",
        "classTotals = trainLabels.sum(axis=0)\n",
        "classWeight = dict()\n",
        "# loop over all classes and calculate the class weight\n",
        "for i in range(0, len(classTotals)):\n",
        "\tclassWeight[i] = classTotals.max() / classTotals[i]"
      ],
      "metadata": {
        "id": "M8zjG_UYzY8X"
      },
      "execution_count": 12,
      "outputs": []
    },
    {
      "cell_type": "markdown",
      "source": [
        "## Model building and training"
      ],
      "metadata": {
        "id": "NOcrbZdbzehj"
      }
    },
    {
      "cell_type": "code",
      "source": [
        "def get_training_model(trainable=False):\n",
        "    # Load the EfficientNetB1 model but exclude the classification layers\n",
        "    EXTRACTOR = keras.applications.EfficientNetB1(weights=\"imagenet\", include_top=False,\n",
        "                    input_shape=(IMG_SIZE, IMG_SIZE, 3))\n",
        "    # We will set it to both True and False\n",
        "    EXTRACTOR.trainable = trainable\n",
        "    # Construct the head of the model that will be placed on top of the\n",
        "    # the base model\n",
        "    class_head = EXTRACTOR.output\n",
        "    class_head = layers.GlobalAveragePooling2D()(class_head)\n",
        "    class_head = layers.Dense(512, activation=\"relu\")(class_head)\n",
        "    class_head = layers.Dropout(0.5)(class_head)\n",
        "    class_head = layers.Dense(NUM_CLASSES, activation=\"softmax\", dtype=\"float32\")(class_head)\n",
        "\n",
        "    # Create the new model\n",
        "    classifier = keras.Model(inputs=EXTRACTOR.input, outputs=class_head)\n",
        "\n",
        "    # Compile and return the model\n",
        "    classifier.compile(loss=\"sparse_categorical_crossentropy\", \n",
        "                          optimizer=\"adam\",\n",
        "                          metrics=[\"accuracy\"])\n",
        "\n",
        "    return classifier"
      ],
      "metadata": {
        "id": "hvvwwC2AzhqY"
      },
      "execution_count": 13,
      "outputs": []
    },
    {
      "cell_type": "markdown",
      "source": [
        "## Plot the metric"
      ],
      "metadata": {
        "id": "1iRdd6Y458Fr"
      }
    },
    {
      "cell_type": "code",
      "source": [
        "def plot_hist(hist):\n",
        "    plt.plot(hist.history[\"accuracy\"])\n",
        "    plt.plot(hist.history[\"val_accuracy\"])\n",
        "    plt.title(\"Training Progress\")\n",
        "    plt.ylabel(\"Accuracy\")\n",
        "    plt.xlabel(\"Epochs\")\n",
        "    plt.legend([\"train_acc\", \"val_acc\"], loc=\"upper left\")\n",
        "    plt.grid()\n",
        "    plt.show()\n",
        "\n",
        "    plt.plot(hist.history[\"loss\"])\n",
        "    plt.plot(hist.history[\"val_loss\"])\n",
        "    plt.title(\"Training Progress\")\n",
        "    plt.ylabel(\"Loss\")\n",
        "    plt.xlabel(\"Epochs\")\n",
        "    plt.legend([\"train_loss\", \"val_loss\"], loc=\"upper left\")\n",
        "    plt.grid()\n",
        "    plt.show()"
      ],
      "metadata": {
        "id": "6gLj9nSyz4JZ"
      },
      "execution_count": 14,
      "outputs": []
    },
    {
      "cell_type": "markdown",
      "source": [
        "## Setup callbacks"
      ],
      "metadata": {
        "id": "ZlQ6yPjr5-KM"
      }
    },
    {
      "cell_type": "code",
      "source": [
        "train_callbacks = [\n",
        "    keras.callbacks.EarlyStopping(patience=5, restore_best_weights=True),\n",
        "    keras.callbacks.CSVLogger('train-logs.csv')\n",
        "]"
      ],
      "metadata": {
        "id": "nLO6jN80z6Cq"
      },
      "execution_count": 15,
      "outputs": []
    },
    {
      "cell_type": "markdown",
      "source": [
        "## Train the model"
      ],
      "metadata": {
        "id": "Cq69f7j86APC"
      }
    },
    {
      "cell_type": "code",
      "source": [
        "classifier = get_training_model()\n",
        "\n",
        "h = classifier.fit(pipeline_train,\n",
        "               validation_data=pipeline_validation,\n",
        "               epochs=EPOCHS,\n",
        "               batch_size=BATCH_SIZE,\n",
        "               class_weight=classWeight,\n",
        "               callbacks=train_callbacks)\n",
        "\n",
        "accuracy = classifier.evaluate(pipeline_validation)[1] * 100\n",
        "print(\"Accuracy: {:.2f}%\".format(accuracy))\n",
        "\n",
        "plot_hist(h)"
      ],
      "metadata": {
        "colab": {
          "base_uri": "https://localhost:8080/",
          "height": 1000
        },
        "id": "QJgGSwF70K1j",
        "outputId": "c27327ef-b4e9-4333-c2bd-542d2d480ba9"
      },
      "execution_count": 16,
      "outputs": [
        {
          "output_type": "stream",
          "name": "stdout",
          "text": [
            "Downloading data from https://storage.googleapis.com/keras-applications/efficientnetb1_notop.h5\n",
            "27025408/27018416 [==============================] - 1s 0us/step\n",
            "27033600/27018416 [==============================] - 1s 0us/step\n",
            "Epoch 1/100\n",
            "35/35 [==============================] - 131s 3s/step - loss: 1.7961 - accuracy: 0.7142 - val_loss: 0.4213 - val_accuracy: 0.8879\n",
            "Epoch 2/100\n",
            "35/35 [==============================] - 103s 3s/step - loss: 0.5576 - accuracy: 0.8928 - val_loss: 0.3512 - val_accuracy: 0.9051\n",
            "Epoch 3/100\n",
            "35/35 [==============================] - 109s 3s/step - loss: 0.4359 - accuracy: 0.9191 - val_loss: 0.3167 - val_accuracy: 0.9131\n",
            "Epoch 4/100\n",
            "35/35 [==============================] - 104s 3s/step - loss: 0.3653 - accuracy: 0.9288 - val_loss: 0.3013 - val_accuracy: 0.9121\n",
            "Epoch 5/100\n",
            "35/35 [==============================] - 108s 3s/step - loss: 0.3113 - accuracy: 0.9384 - val_loss: 0.2793 - val_accuracy: 0.9232\n",
            "Epoch 6/100\n",
            "35/35 [==============================] - 107s 3s/step - loss: 0.2744 - accuracy: 0.9452 - val_loss: 0.2777 - val_accuracy: 0.9182\n",
            "Epoch 7/100\n",
            "35/35 [==============================] - 104s 3s/step - loss: 0.2336 - accuracy: 0.9534 - val_loss: 0.2692 - val_accuracy: 0.9172\n",
            "Epoch 8/100\n",
            "35/35 [==============================] - 103s 3s/step - loss: 0.2232 - accuracy: 0.9537 - val_loss: 0.2811 - val_accuracy: 0.9212\n",
            "Epoch 9/100\n",
            "35/35 [==============================] - 107s 3s/step - loss: 0.2115 - accuracy: 0.9571 - val_loss: 0.2795 - val_accuracy: 0.9192\n",
            "Epoch 10/100\n",
            "35/35 [==============================] - 108s 3s/step - loss: 0.1767 - accuracy: 0.9643 - val_loss: 0.2699 - val_accuracy: 0.9192\n",
            "Epoch 11/100\n",
            "35/35 [==============================] - 104s 3s/step - loss: 0.1699 - accuracy: 0.9656 - val_loss: 0.2684 - val_accuracy: 0.9222\n",
            "Epoch 12/100\n",
            "35/35 [==============================] - 103s 3s/step - loss: 0.1599 - accuracy: 0.9678 - val_loss: 0.2751 - val_accuracy: 0.9242\n",
            "Epoch 13/100\n",
            "35/35 [==============================] - 107s 3s/step - loss: 0.1453 - accuracy: 0.9708 - val_loss: 0.2572 - val_accuracy: 0.9273\n",
            "Epoch 14/100\n",
            "35/35 [==============================] - 104s 3s/step - loss: 0.1467 - accuracy: 0.9685 - val_loss: 0.2573 - val_accuracy: 0.9293\n",
            "Epoch 15/100\n",
            "35/35 [==============================] - 103s 3s/step - loss: 0.1316 - accuracy: 0.9732 - val_loss: 0.2699 - val_accuracy: 0.9273\n",
            "Epoch 16/100\n",
            "35/35 [==============================] - 104s 3s/step - loss: 0.1273 - accuracy: 0.9741 - val_loss: 0.2755 - val_accuracy: 0.9242\n",
            "Epoch 17/100\n",
            "35/35 [==============================] - 106s 3s/step - loss: 0.1204 - accuracy: 0.9751 - val_loss: 0.2762 - val_accuracy: 0.9283\n",
            "Epoch 18/100\n",
            "35/35 [==============================] - 103s 3s/step - loss: 0.1112 - accuracy: 0.9773 - val_loss: 0.2802 - val_accuracy: 0.9253\n",
            "4/4 [==============================] - 5s 1s/step - loss: 0.2572 - accuracy: 0.9273\n",
            "Accuracy: 92.73%\n"
          ]
        },
        {
          "output_type": "display_data",
          "data": {
            "image/png": "[encoded data removed]",
            "text/plain": [
              "<Figure size 432x288 with 1 Axes>"
            ]
          },
          "metadata": {
            "needs_background": "light"
          }
        },
        {
          "output_type": "display_data",
          "data": {
            "image/png": "[encoded data removed]",
            "text/plain": [
              "<Figure size 432x288 with 1 Axes>"
            ]
          },
          "metadata": {
            "needs_background": "light"
          }
        }
      ]
    },
    {
      "cell_type": "markdown",
      "source": [
        "## Predict the images"
      ],
      "metadata": {
        "id": "9itieqMW7K4R"
      }
    },
    {
      "cell_type": "code",
      "source": [
        "test_prediction = np.argmax(classifier.predict(pipeline_validation), 1)\n",
        "print(test_prediction.shape)"
      ],
      "metadata": {
        "colab": {
          "base_uri": "https://localhost:8080/"
        },
        "id": "sQwlcOzW7PTu",
        "outputId": "a80874bb-7cc9-41d0-ec7c-a885906da362"
      },
      "execution_count": 18,
      "outputs": [
        {
          "output_type": "stream",
          "name": "stdout",
          "text": [
            "(990,)\n"
          ]
        }
      ]
    },
    {
      "cell_type": "markdown",
      "source": [
        "## Confusion matrix"
      ],
      "metadata": {
        "id": "_-QJKYZP7SFg"
      }
    },
    {
      "cell_type": "code",
      "source": [
        "print(confusion_matrix(validation_labels_le, test_prediction))"
      ],
      "metadata": {
        "id": "r8RBESA47YVO"
      },
      "execution_count": null,
      "outputs": []
    },
    {
      "cell_type": "markdown",
      "source": [
        "## Classification report"
      ],
      "metadata": {
        "id": "1Ny1FuRU7WIo"
      }
    },
    {
      "cell_type": "code",
      "source": [
        "print(classification_report(validation_labels_le, test_prediction))"
      ],
      "metadata": {
        "colab": {
          "base_uri": "https://localhost:8080/"
        },
        "id": "uF16KcRs7ZGH",
        "outputId": "00e832b3-bfa7-47be-b6af-5d790d7566a9"
      },
      "execution_count": 23,
      "outputs": [
        {
          "output_type": "stream",
          "name": "stdout",
          "text": [
            "              precision    recall  f1-score   support\n",
            "\n",
            "           0       0.90      0.97      0.94        37\n",
            "           1       0.97      0.90      0.94        41\n",
            "           2       0.82      0.79      0.81        34\n",
            "           3       0.97      1.00      0.99        37\n",
            "           4       0.88      0.96      0.92        54\n",
            "           5       0.91      0.91      0.91        45\n",
            "           6       0.85      0.72      0.78        40\n",
            "           7       0.89      0.57      0.69        30\n",
            "           8       0.89      0.91      0.90        34\n",
            "           9       0.96      0.86      0.91        28\n",
            "          10       0.86      0.91      0.89        35\n",
            "          11       0.97      0.94      0.95        33\n",
            "          12       0.97      0.97      0.97        30\n",
            "          13       0.96      1.00      0.98        25\n",
            "          14       1.00      1.00      1.00        37\n",
            "          15       1.00      0.97      0.98        31\n",
            "          16       1.00      1.00      1.00        24\n",
            "          17       0.95      0.95      0.95        22\n",
            "          18       0.79      0.79      0.79        29\n",
            "          19       1.00      1.00      1.00        19\n",
            "          20       0.94      1.00      0.97        17\n",
            "          21       1.00      1.00      1.00        21\n",
            "          22       1.00      1.00      1.00        33\n",
            "          23       0.89      0.89      0.89        38\n",
            "          24       0.98      0.98      0.98        52\n",
            "          25       0.94      1.00      0.97        32\n",
            "          26       0.92      0.92      0.92        25\n",
            "          27       1.00      0.97      0.99        38\n",
            "          28       0.83      0.97      0.89        30\n",
            "          29       0.87      1.00      0.93        39\n",
            "\n",
            "    accuracy                           0.93       990\n",
            "   macro avg       0.93      0.93      0.93       990\n",
            "weighted avg       0.93      0.93      0.93       990\n",
            "\n"
          ]
        }
      ]
    },
    {
      "cell_type": "markdown",
      "source": [
        "## Serialize the model"
      ],
      "metadata": {
        "id": "-Lt1K9mI6s1L"
      }
    },
    {
      "cell_type": "code",
      "source": [
        "classifier.save('image_scene_model')"
      ],
      "metadata": {
        "colab": {
          "base_uri": "https://localhost:8080/"
        },
        "id": "ghQSu5au6sYM",
        "outputId": "39520bf4-9ea1-4ed7-c9d4-d199124440f5"
      },
      "execution_count": 24,
      "outputs": [
        {
          "output_type": "stream",
          "name": "stdout",
          "text": [
            "INFO:tensorflow:Assets written to: image_scene_model/assets\n"
          ]
        },
        {
          "output_type": "stream",
          "name": "stderr",
          "text": [
            "/usr/local/lib/python3.7/dist-packages/keras/engine/functional.py:1410: CustomMaskWarning: Custom mask layers require a config and must override get_config. When loading, the custom mask layer must be passed to the custom_objects argument.\n",
            "  layer_config = serialize_layer_fn(layer)\n",
            "/usr/local/lib/python3.7/dist-packages/keras/saving/saved_model/layer_serialization.py:112: CustomMaskWarning: Custom mask layers require a config and must override get_config. When loading, the custom mask layer must be passed to the custom_objects argument.\n",
            "  return generic_utils.serialize_keras_object(obj)\n"
          ]
        }
      ]
    },
    {
      "cell_type": "code",
      "source": [
        "!tar -cvf \"image_scene_model.tar\" \"image_scene_model\""
      ],
      "metadata": {
        "colab": {
          "base_uri": "https://localhost:8080/"
        },
        "id": "KnSBU6W463KF",
        "outputId": "49d6d335-fd87-4bbe-a502-0dfcf9d4175e"
      },
      "execution_count": 25,
      "outputs": [
        {
          "output_type": "stream",
          "name": "stdout",
          "text": [
            "image_scene_model/\n",
            "image_scene_model/keras_metadata.pb\n",
            "image_scene_model/saved_model.pb\n",
            "image_scene_model/assets/\n",
            "image_scene_model/variables/\n",
            "image_scene_model/variables/variables.index\n",
            "image_scene_model/variables/variables.data-00000-of-00001\n"
          ]
        }
      ]
    }
  ]
}